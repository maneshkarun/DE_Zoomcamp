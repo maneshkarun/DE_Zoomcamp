{
  "nbformat": 4,
  "nbformat_minor": 0,
  "metadata": {
    "colab": {
      "provenance": []
    },
    "kernelspec": {
      "name": "python3",
      "display_name": "Python 3"
    },
    "language_info": {
      "name": "python"
    }
  },
  "cells": [
    {
      "cell_type": "markdown",
      "source": [
        "# **Homework**: Data talks club data engineering zoomcamp Data loading workshop\n",
        "\n",
        "Hello folks, let's practice what we learned - Loading data with the best practices of data engineering.\n",
        "\n",
        "Here are the exercises we will do\n",
        "\n",
        "\n"
      ],
      "metadata": {
        "id": "mrTFv5nPClXh"
      }
    },
    {
      "cell_type": "markdown",
      "source": [
        "# 1. Use a generator\n",
        "\n",
        "Remember the concept of generator? Let's practice using them to futher our understanding of how they work.\n",
        "\n",
        "Let's define a generator and then run it as practice.\n",
        "\n",
        "**Answer the following questions:**\n",
        "\n",
        "- **Question 1: What is the sum of the outputs of the generator for limit = 5?**\n",
        "- **Question 2: What is the 13th number yielded**\n",
        "\n",
        "I suggest practicing these questions without GPT as the purpose is to further your learning."
      ],
      "metadata": {
        "id": "wLF4iXf-NR7t"
      }
    },
    {
      "cell_type": "code",
      "source": [
        "def square_root_generator(limit):\n",
        "    n = 1\n",
        "    while n <= limit:\n",
        "        yield n ** 0.5\n",
        "        n += 1\n",
        "\n",
        "# Example usage:\n",
        "limit = 5\n",
        "generator = square_root_generator(limit)"
      ],
      "metadata": {
        "id": "wLng-bDJN4jf"
      },
      "execution_count": 112,
      "outputs": []
    },
    {
      "cell_type": "code",
      "source": [
        "sqrt_sum = 0\n",
        "for sqrt_value in generator:\n",
        "    print(sqrt_value)\n",
        "    sqrt_sum += sqrt_value\n",
        "print(sqrt_sum)"
      ],
      "metadata": {
        "colab": {
          "base_uri": "https://localhost:8080/"
        },
        "id": "lohcldTSDX1Y",
        "outputId": "405a9b91-80cb-408f-a9b3-178c72c2b05c"
      },
      "execution_count": 113,
      "outputs": [
        {
          "output_type": "stream",
          "name": "stdout",
          "text": [
            "1.0\n",
            "1.4142135623730951\n",
            "1.7320508075688772\n",
            "2.0\n",
            "2.23606797749979\n",
            "8.382332347441762\n"
          ]
        }
      ]
    },
    {
      "cell_type": "code",
      "source": [
        "generator_2 = square_root_generator(13)\n",
        "for val in generator_2:\n",
        "  print(val)"
      ],
      "metadata": {
        "colab": {
          "base_uri": "https://localhost:8080/"
        },
        "id": "Zoh9S7fsF59Z",
        "outputId": "2d8b9504-0bd2-47a9-8acf-1658ffd28c85"
      },
      "execution_count": 114,
      "outputs": [
        {
          "output_type": "stream",
          "name": "stdout",
          "text": [
            "1.0\n",
            "1.4142135623730951\n",
            "1.7320508075688772\n",
            "2.0\n",
            "2.23606797749979\n",
            "2.449489742783178\n",
            "2.6457513110645907\n",
            "2.8284271247461903\n",
            "3.0\n",
            "3.1622776601683795\n",
            "3.3166247903554\n",
            "3.4641016151377544\n",
            "3.605551275463989\n"
          ]
        }
      ]
    },
    {
      "cell_type": "markdown",
      "source": [],
      "metadata": {
        "id": "xbe3q55zN43j"
      }
    },
    {
      "cell_type": "markdown",
      "source": [
        "# 2. Append a generator to a table with existing data\n",
        "\n",
        "\n",
        "Below you have 2 generators. You will be tasked to load them to duckdb and answer some questions from the data\n",
        "\n",
        "1. Load the first generator and calculate the sum of ages of all people. Make sure to only load it once.\n",
        "2. Append the second generator to the same table as the first.\n",
        "3. **After correctly appending the data, calculate the sum of all ages of people.**\n",
        "\n",
        "\n"
      ],
      "metadata": {
        "id": "vjWhILzGJMpK"
      }
    },
    {
      "cell_type": "code",
      "execution_count": 115,
      "metadata": {
        "colab": {
          "base_uri": "https://localhost:8080/"
        },
        "id": "2MoaQcdLBEk6",
        "outputId": "0ef49f5b-828e-468d-8be8-a65036287816"
      },
      "outputs": [
        {
          "output_type": "stream",
          "name": "stdout",
          "text": [
            "{'ID': 1, 'Name': 'Person_1', 'Age': 26, 'City': 'City_A'}\n",
            "{'ID': 2, 'Name': 'Person_2', 'Age': 27, 'City': 'City_A'}\n",
            "{'ID': 3, 'Name': 'Person_3', 'Age': 28, 'City': 'City_A'}\n",
            "{'ID': 4, 'Name': 'Person_4', 'Age': 29, 'City': 'City_A'}\n",
            "{'ID': 5, 'Name': 'Person_5', 'Age': 30, 'City': 'City_A'}\n",
            "{'ID': 3, 'Name': 'Person_3', 'Age': 33, 'City': 'City_B', 'Occupation': 'Job_3'}\n",
            "{'ID': 4, 'Name': 'Person_4', 'Age': 34, 'City': 'City_B', 'Occupation': 'Job_4'}\n",
            "{'ID': 5, 'Name': 'Person_5', 'Age': 35, 'City': 'City_B', 'Occupation': 'Job_5'}\n",
            "{'ID': 6, 'Name': 'Person_6', 'Age': 36, 'City': 'City_B', 'Occupation': 'Job_6'}\n",
            "{'ID': 7, 'Name': 'Person_7', 'Age': 37, 'City': 'City_B', 'Occupation': 'Job_7'}\n",
            "{'ID': 8, 'Name': 'Person_8', 'Age': 38, 'City': 'City_B', 'Occupation': 'Job_8'}\n"
          ]
        }
      ],
      "source": [
        "def people_1():\n",
        "    for i in range(1, 6):\n",
        "        yield {\"ID\": i, \"Name\": f\"Person_{i}\", \"Age\": 25 + i, \"City\": \"City_A\"}\n",
        "\n",
        "for person in people_1():\n",
        "    print(person)\n",
        "\n",
        "def people_2():\n",
        "    for i in range(3, 9):\n",
        "        yield {\"ID\": i, \"Name\": f\"Person_{i}\", \"Age\": 30 + i, \"City\": \"City_B\", \"Occupation\": f\"Job_{i}\"}\n",
        "\n",
        "for person in people_2():\n",
        "    print(person)\n"
      ]
    },
    {
      "cell_type": "markdown",
      "source": [
        "# 3. Merge a generator\n",
        "\n",
        "Re-use the generators from Exercise 2.\n",
        "\n",
        "A table's primary key needs to be created from the start, so load your data to a new table with primary key ID.\n",
        "\n",
        "Load your first generator first, and then load the second one with merge. Since they have overlapping IDs, some of the records from the first load should be replaced by the ones from the second load.\n",
        "\n",
        "After loading, you should have a total of 8 records, and ID 3 should have age 33.\n",
        "\n",
        "Question: **Calculate the sum of ages of all the people loaded as described above.**\n"
      ],
      "metadata": {
        "id": "pY4cFAWOSwN1"
      }
    },
    {
      "cell_type": "markdown",
      "source": [
        "# Solution: First make sure that the following modules are installed:"
      ],
      "metadata": {
        "id": "kKB2GTB9oVjr"
      }
    },
    {
      "cell_type": "code",
      "source": [
        "#Install the dependencies\n",
        "%%capture\n",
        "!pip install dlt[duckdb]"
      ],
      "metadata": {
        "id": "xTVvtyqrfVNq"
      },
      "execution_count": 116,
      "outputs": []
    },
    {
      "cell_type": "code",
      "source": [
        "import dlt\n",
        "import duckdb"
      ],
      "metadata": {
        "id": "V4ua98QOIXtm"
      },
      "execution_count": 117,
      "outputs": []
    },
    {
      "cell_type": "code",
      "source": [
        "pipeline = dlt.pipeline(pipeline_name ='homework',destination='duckdb',dataset_name='people_details')"
      ],
      "metadata": {
        "id": "sCeTnIvbHe-g"
      },
      "execution_count": 118,
      "outputs": []
    },
    {
      "cell_type": "markdown",
      "source": [
        "## Question 3"
      ],
      "metadata": {
        "id": "5rroSxB6HZsu"
      }
    },
    {
      "cell_type": "code",
      "source": [
        "info = pipeline.run(people_1(), table_name=\"people\", write_disposition =\"replace\")\n",
        "\n",
        "info = pipeline.run(people_2(), table_name=\"people\", write_disposition='append')"
      ],
      "metadata": {
        "id": "a2-PRBAkGC2K"
      },
      "execution_count": 119,
      "outputs": []
    },
    {
      "cell_type": "code",
      "source": [
        "conn = duckdb.connect(\"homework.duckdb\")"
      ],
      "metadata": {
        "id": "MaziaUK5HWGA"
      },
      "execution_count": 120,
      "outputs": []
    },
    {
      "cell_type": "code",
      "source": [
        "conn.sql(f\"SET search_path = '{pipeline.dataset_name}'\")\n",
        "display(conn.sql(\"show tables\"))"
      ],
      "metadata": {
        "colab": {
          "base_uri": "https://localhost:8080/",
          "height": 173
        },
        "id": "hd5XEyaWH1T5",
        "outputId": "ce8d2805-db46-486f-c04b-bb1eeaa7eec8"
      },
      "execution_count": 121,
      "outputs": [
        {
          "output_type": "display_data",
          "data": {
            "text/plain": [
              "┌─────────────────────┐\n",
              "│        name         │\n",
              "│       varchar       │\n",
              "├─────────────────────┤\n",
              "│ _dlt_loads          │\n",
              "│ _dlt_pipeline_state │\n",
              "│ _dlt_version        │\n",
              "│ people              │\n",
              "└─────────────────────┘"
            ]
          },
          "metadata": {}
        }
      ]
    },
    {
      "cell_type": "code",
      "source": [
        "ppl_after_append = conn.sql(\"SELECT * FROM people\")\n",
        "display(ppl_after_append)"
      ],
      "metadata": {
        "colab": {
          "base_uri": "https://localhost:8080/",
          "height": 329
        },
        "id": "qetw5GuGIaI_",
        "outputId": "e032cca9-1f95-45f9-f28e-0ff0a3cbf5e9"
      },
      "execution_count": 122,
      "outputs": [
        {
          "output_type": "display_data",
          "data": {
            "text/plain": [
              "┌───────┬──────────┬───────┬─────────┬────────────────────┬────────────────┬────────────┐\n",
              "│  id   │   name   │  age  │  city   │    _dlt_load_id    │    _dlt_id     │ occupation │\n",
              "│ int64 │ varchar  │ int64 │ varchar │      varchar       │    varchar     │  varchar   │\n",
              "├───────┼──────────┼───────┼─────────┼────────────────────┼────────────────┼────────────┤\n",
              "│     1 │ Person_1 │    26 │ City_A  │ 1707923020.2148511 │ wHCXdT8En203pA │ NULL       │\n",
              "│     2 │ Person_2 │    27 │ City_A  │ 1707923020.2148511 │ FeiKdYY3jDKerQ │ NULL       │\n",
              "│     3 │ Person_3 │    28 │ City_A  │ 1707923020.2148511 │ OTFxzLodAVDM5A │ NULL       │\n",
              "│     4 │ Person_4 │    29 │ City_A  │ 1707923020.2148511 │ YYd7oStpFpoRYQ │ NULL       │\n",
              "│     5 │ Person_5 │    30 │ City_A  │ 1707923020.2148511 │ l8h6apKjBHT/zQ │ NULL       │\n",
              "│     3 │ Person_3 │    33 │ City_B  │ 1707923020.8285563 │ HvE5OND5HiYE3w │ Job_3      │\n",
              "│     4 │ Person_4 │    34 │ City_B  │ 1707923020.8285563 │ m9HnbzT/JS23Gw │ Job_4      │\n",
              "│     5 │ Person_5 │    35 │ City_B  │ 1707923020.8285563 │ PxYbl8A0Hj98nw │ Job_5      │\n",
              "│     6 │ Person_6 │    36 │ City_B  │ 1707923020.8285563 │ 58bCeUw0MdLhJQ │ Job_6      │\n",
              "│     7 │ Person_7 │    37 │ City_B  │ 1707923020.8285563 │ aUs7Wxl/V+fgyg │ Job_7      │\n",
              "│     8 │ Person_8 │    38 │ City_B  │ 1707923020.8285563 │ 2m26bdCgsyWNfg │ Job_8      │\n",
              "├───────┴──────────┴───────┴─────────┴────────────────────┴────────────────┴────────────┤\n",
              "│ 11 rows                                                                     7 columns │\n",
              "└───────────────────────────────────────────────────────────────────────────────────────┘"
            ]
          },
          "metadata": {}
        }
      ]
    },
    {
      "cell_type": "code",
      "source": [
        "age_sum = conn.sql(\"SELECT SUM(age) FROM people\")\n",
        "display(age_sum)"
      ],
      "metadata": {
        "colab": {
          "base_uri": "https://localhost:8080/",
          "height": 121
        },
        "id": "JEFGJE9kJCbb",
        "outputId": "80bf4f26-dbf1-4b55-e9cd-46faf5c196fb"
      },
      "execution_count": 123,
      "outputs": [
        {
          "output_type": "display_data",
          "data": {
            "text/plain": [
              "┌──────────┐\n",
              "│ sum(age) │\n",
              "│  int128  │\n",
              "├──────────┤\n",
              "│      353 │\n",
              "└──────────┘"
            ]
          },
          "metadata": {}
        }
      ]
    },
    {
      "cell_type": "markdown",
      "source": [
        "## Question 4"
      ],
      "metadata": {
        "id": "_L6k-qtnI3cE"
      }
    },
    {
      "cell_type": "code",
      "source": [
        "info = pipeline.run(people_1(), table_name=\"people\", write_disposition =\"replace\")\n",
        "\n",
        "info = pipeline.run(people_2(), table_name=\"people\", write_disposition='merge', primary_key='id')"
      ],
      "metadata": {
        "id": "B9otlAc4I3A9"
      },
      "execution_count": 128,
      "outputs": []
    },
    {
      "cell_type": "code",
      "source": [
        "conn.sql(\"show tables\")"
      ],
      "metadata": {
        "colab": {
          "base_uri": "https://localhost:8080/"
        },
        "id": "vPB7y4RPIkuM",
        "outputId": "1508b384-58db-4749-df69-13496969aa20"
      },
      "execution_count": 129,
      "outputs": [
        {
          "output_type": "execute_result",
          "data": {
            "text/plain": [
              "┌─────────────────────┐\n",
              "│        name         │\n",
              "│       varchar       │\n",
              "├─────────────────────┤\n",
              "│ _dlt_loads          │\n",
              "│ _dlt_pipeline_state │\n",
              "│ _dlt_version        │\n",
              "│ people              │\n",
              "└─────────────────────┘"
            ]
          },
          "metadata": {},
          "execution_count": 129
        }
      ]
    },
    {
      "cell_type": "code",
      "source": [
        "ppl_after_merge = conn.sql(\"SELECT * FROM people\")\n",
        "display(ppl_after_merge)"
      ],
      "metadata": {
        "colab": {
          "base_uri": "https://localhost:8080/",
          "height": 243
        },
        "id": "7NyCqsukJxIN",
        "outputId": "7b0fcee4-6faa-4733-b3e9-04ec8f3aabe2"
      },
      "execution_count": 130,
      "outputs": [
        {
          "output_type": "display_data",
          "data": {
            "text/plain": [
              "┌───────┬──────────┬───────┬─────────┬────────────────────┬────────────────┬────────────┐\n",
              "│  id   │   name   │  age  │  city   │    _dlt_load_id    │    _dlt_id     │ occupation │\n",
              "│ int64 │ varchar  │ int64 │ varchar │      varchar       │    varchar     │  varchar   │\n",
              "├───────┼──────────┼───────┼─────────┼────────────────────┼────────────────┼────────────┤\n",
              "│     1 │ Person_1 │    26 │ City_A  │ 1707923220.9661536 │ uxNj2g2euZlfGA │ NULL       │\n",
              "│     2 │ Person_2 │    27 │ City_A  │ 1707923220.9661536 │ uNND07UETHJLXQ │ NULL       │\n",
              "│     5 │ Person_5 │    35 │ City_B  │ 1707923221.5160968 │ lHCez3NlOPJI2w │ Job_5      │\n",
              "│     7 │ Person_7 │    37 │ City_B  │ 1707923221.5160968 │ WGfM9oadM2j8Ww │ Job_7      │\n",
              "│     3 │ Person_3 │    33 │ City_B  │ 1707923221.5160968 │ cZFb7J/HCNmudg │ Job_3      │\n",
              "│     6 │ Person_6 │    36 │ City_B  │ 1707923221.5160968 │ dkW5aq12AV0TdQ │ Job_6      │\n",
              "│     8 │ Person_8 │    38 │ City_B  │ 1707923221.5160968 │ jqdh0G87nn+KmQ │ Job_8      │\n",
              "│     4 │ Person_4 │    34 │ City_B  │ 1707923221.5160968 │ ckkZ2udZe8/ebQ │ Job_4      │\n",
              "└───────┴──────────┴───────┴─────────┴────────────────────┴────────────────┴────────────┘"
            ]
          },
          "metadata": {}
        }
      ]
    },
    {
      "cell_type": "code",
      "source": [
        "age_sum = conn.sql(\"SELECT SUM(age) FROM people\")\n",
        "display(age_sum)"
      ],
      "metadata": {
        "colab": {
          "base_uri": "https://localhost:8080/",
          "height": 121
        },
        "id": "LLDPmBuXJ-8G",
        "outputId": "559c38f5-ed5e-4f93-dc55-6432da2b6ea1"
      },
      "execution_count": 131,
      "outputs": [
        {
          "output_type": "display_data",
          "data": {
            "text/plain": [
              "┌──────────┐\n",
              "│ sum(age) │\n",
              "│  int128  │\n",
              "├──────────┤\n",
              "│      266 │\n",
              "└──────────┘"
            ]
          },
          "metadata": {}
        }
      ]
    },
    {
      "cell_type": "code",
      "source": [
        "conn.close()"
      ],
      "metadata": {
        "id": "uLEQDEcDINuu"
      },
      "execution_count": 132,
      "outputs": []
    },
    {
      "cell_type": "markdown",
      "source": [
        "Questions? difficulties? We are here to help.\n",
        "- DTC data engineering course channel: https://datatalks-club.slack.com/archives/C01FABYF2RG\n",
        "- dlt's DTC cohort channel: https://dlthub-community.slack.com/archives/C06GAEX2VNX"
      ],
      "metadata": {
        "id": "PoTJu4kbGG0z"
      }
    }
  ]
}